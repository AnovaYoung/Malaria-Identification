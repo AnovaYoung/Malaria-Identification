{
  "nbformat": 4,
  "nbformat_minor": 0,
  "metadata": {
    "colab": {
      "provenance": [],
      "mount_file_id": "1TSqDBcXhSTabUzuQhtjWKAK14hoj40RX",
      "authorship_tag": "ABX9TyONWIKrpwj+RKT/PMb5RbOr",
      "include_colab_link": true
    },
    "kernelspec": {
      "name": "python3",
      "display_name": "Python 3"
    },
    "language_info": {
      "name": "python"
    }
  },
  "cells": [
    {
      "cell_type": "markdown",
      "metadata": {
        "id": "view-in-github",
        "colab_type": "text"
      },
      "source": [
        "<a href=\"https://colab.research.google.com/github/MelYoungers/whatsmyshape/blob/main/DeepLearning_CaseStudy.ipynb\" target=\"_parent\"><img src=\"https://colab.research.google.com/assets/colab-badge.svg\" alt=\"Open In Colab\"/></a>"
      ]
    },
    {
      "cell_type": "markdown",
      "source": [
        "Objective: Predict the number depicted inside the image by using Artificial or Fully Connected Feed Forward Neural Networks and Convolutional Neural Networks. We will go through various models of each and finally select the one that is giving us the best performance."
      ],
      "metadata": {
        "id": "A7VJrppwQRQ0"
      }
    },
    {
      "cell_type": "code",
      "source": [
        "from google.colab import drive\n",
        "\n",
        "drive.mount('/content/drive')"
      ],
      "metadata": {
        "colab": {
          "base_uri": "https://localhost:8080/"
        },
        "id": "WSrOI-8PQVoI",
        "outputId": "33c58276-b7aa-4482-a38d-a5bf3dcf94ef"
      },
      "execution_count": 15,
      "outputs": [
        {
          "output_type": "stream",
          "name": "stdout",
          "text": [
            "Drive already mounted at /content/drive; to attempt to forcibly remount, call drive.mount(\"/content/drive\", force_remount=True).\n"
          ]
        }
      ]
    },
    {
      "cell_type": "markdown",
      "source": [
        "Import libraries, first Data Handling and Manipulation."
      ],
      "metadata": {
        "id": "DuW70DjhSvsA"
      }
    },
    {
      "cell_type": "code",
      "source": [
        "import numpy as np\n",
        "import pandas as pd\n",
        "import matplotlib.pyplot as plt\n",
        "import seaborn as sns\n"
      ],
      "metadata": {
        "id": "iPTpPloGSTCV"
      },
      "execution_count": 16,
      "outputs": []
    },
    {
      "cell_type": "markdown",
      "source": [
        "Deep Learning Frameworks"
      ],
      "metadata": {
        "id": "B6aClw8tSjBZ"
      }
    },
    {
      "cell_type": "code",
      "source": [
        "import tensorflow as tf\n",
        "from tensorflow import keras\n",
        "import torch\n",
        "import torchvision"
      ],
      "metadata": {
        "id": "5x7xVOVlSmgH"
      },
      "execution_count": 17,
      "outputs": []
    },
    {
      "cell_type": "markdown",
      "source": [
        "Computer Vision, Image Processing"
      ],
      "metadata": {
        "id": "IxwmsezVTMuD"
      }
    },
    {
      "cell_type": "code",
      "source": [
        "import cv2\n",
        "from PIL import Image\n",
        "\n"
      ],
      "metadata": {
        "id": "COfvNGf6TVUE"
      },
      "execution_count": 18,
      "outputs": []
    },
    {
      "cell_type": "markdown",
      "source": [
        "Model Evaluation and Metrics"
      ],
      "metadata": {
        "id": "WdAfPPbFTphX"
      }
    },
    {
      "cell_type": "code",
      "source": [
        "from sklearn import metrics\n"
      ],
      "metadata": {
        "id": "n9EeRQCoTsMH"
      },
      "execution_count": 19,
      "outputs": []
    },
    {
      "cell_type": "markdown",
      "source": [
        "Data Pre-Processing"
      ],
      "metadata": {
        "id": "QWqb-56PUCnz"
      }
    },
    {
      "cell_type": "code",
      "source": [
        "from skimage import transform, filters, util"
      ],
      "metadata": {
        "id": "9dQ1jKnUUPhz"
      },
      "execution_count": 20,
      "outputs": []
    },
    {
      "cell_type": "markdown",
      "source": [
        "Now I'm going to exclude warnings"
      ],
      "metadata": {
        "id": "7Xo8wDkyVu3j"
      }
    },
    {
      "cell_type": "code",
      "source": [
        "import warnings\n",
        "\n",
        "warnings.filterwarnings(\"ignore\")"
      ],
      "metadata": {
        "id": "zeyxPNLTV2z1"
      },
      "execution_count": 21,
      "outputs": []
    },
    {
      "cell_type": "markdown",
      "source": [
        "Checking the version of Tensorflow"
      ],
      "metadata": {
        "id": "aoX3mUsuV6aj"
      }
    },
    {
      "cell_type": "code",
      "source": [
        "print(\"TensorFlow version:\", tf.__version__)"
      ],
      "metadata": {
        "colab": {
          "base_uri": "https://localhost:8080/"
        },
        "id": "-AQtzDf6ZOKm",
        "outputId": "8a11a38e-e17d-4c52-dcfc-35127196f98d"
      },
      "execution_count": 22,
      "outputs": [
        {
          "output_type": "stream",
          "name": "stdout",
          "text": [
            "TensorFlow version: 2.12.0\n"
          ]
        }
      ]
    },
    {
      "cell_type": "markdown",
      "source": [
        "Load the Dataset, then split it into train and test sets."
      ],
      "metadata": {
        "id": "SQAiWNX2aB5E"
      }
    },
    {
      "cell_type": "code",
      "source": [
        "import h5py"
      ],
      "metadata": {
        "id": "_OaipMdSuCsb"
      },
      "execution_count": 23,
      "outputs": []
    },
    {
      "cell_type": "code",
      "source": [
        "!pip install scikit-learn"
      ],
      "metadata": {
        "colab": {
          "base_uri": "https://localhost:8080/"
        },
        "id": "kNVMnq88uIuk",
        "outputId": "54fcfd20-ee22-45c4-9a5e-7a75a7d21daa"
      },
      "execution_count": 24,
      "outputs": [
        {
          "output_type": "stream",
          "name": "stdout",
          "text": [
            "Requirement already satisfied: scikit-learn in /usr/local/lib/python3.10/dist-packages (1.2.2)\n",
            "Requirement already satisfied: numpy>=1.17.3 in /usr/local/lib/python3.10/dist-packages (from scikit-learn) (1.22.4)\n",
            "Requirement already satisfied: scipy>=1.3.2 in /usr/local/lib/python3.10/dist-packages (from scikit-learn) (1.10.1)\n",
            "Requirement already satisfied: joblib>=1.1.1 in /usr/local/lib/python3.10/dist-packages (from scikit-learn) (1.3.1)\n",
            "Requirement already satisfied: threadpoolctl>=2.0.0 in /usr/local/lib/python3.10/dist-packages (from scikit-learn) (3.2.0)\n"
          ]
        }
      ]
    },
    {
      "cell_type": "code",
      "source": [
        "from sklearn.model_selection import train_test_split"
      ],
      "metadata": {
        "id": "_wMcGd83uO7X"
      },
      "execution_count": 25,
      "outputs": []
    },
    {
      "cell_type": "code",
      "source": [
        "file_path = '/content/SVHN_single_grey.h5'\n"
      ],
      "metadata": {
        "id": "ZKf_78SD5Gta"
      },
      "execution_count": 26,
      "outputs": []
    },
    {
      "cell_type": "code",
      "source": [
        "from h5py._hl.files import h5f\n",
        "with h5py.File(file_path, 'r') as hdf:\n",
        "  X_train = hdf['X_train'][:]\n",
        "  y_train = hdf['y_train'][:]\n",
        "  X_test = hdf['X_test'][:]\n",
        "  y_test = hdf['y_test'][:]\n",
        "\n",
        "  hdf.close()\n",
        "\n",
        "  print(\"Success\") if True else None"
      ],
      "metadata": {
        "colab": {
          "base_uri": "https://localhost:8080/"
        },
        "id": "7-6ylm1tpbMH",
        "outputId": "398bd0a2-b4cc-4593-dfee-857f64857d21"
      },
      "execution_count": 27,
      "outputs": [
        {
          "output_type": "stream",
          "name": "stdout",
          "text": [
            "Success\n"
          ]
        }
      ]
    },
    {
      "cell_type": "markdown",
      "source": [
        "Checking number of images in the training and testing dataset."
      ],
      "metadata": {
        "id": "nhH4JPn9HFol"
      }
    },
    {
      "cell_type": "code",
      "source": [
        "print(\" Number images in Training dataset\", X_train.shape[0])\n",
        "print(\"Number images in Testing dataset\", X_test.shape[0])"
      ],
      "metadata": {
        "colab": {
          "base_uri": "https://localhost:8080/"
        },
        "id": "b_U8xg6ZHQqf",
        "outputId": "c3c30a2b-cac4-4b5a-ec26-23c35330ede0"
      },
      "execution_count": 28,
      "outputs": [
        {
          "output_type": "stream",
          "name": "stdout",
          "text": [
            " Number images in Training dataset 42000\n",
            "Number images in Testing dataset 18000\n"
          ]
        }
      ]
    },
    {
      "cell_type": "markdown",
      "source": [
        "Now lets visualize the data."
      ],
      "metadata": {
        "id": "ZJXmO4YTIpOA"
      }
    },
    {
      "cell_type": "code",
      "source": [
        "for i in range(10):\n",
        "  plt.figure(figsize=(.5, .5))\n",
        "  plt.imshow(X_train[i], cmap='gray')\n",
        "  plt.title(f\"Label: {y_train[i]}\")\n",
        "  plt.axis('off') # hides axis tick marks in plot, makes for cleaner display.\n",
        "  plt.show()"
      ],
      "metadata": {
        "colab": {
          "base_uri": "https://localhost:8080/",
          "height": 817
        },
        "id": "UsvlK6LbJO0Y",
        "outputId": "9a6d7284-730b-49f6-8a80-45f885677d8f"
      },
      "execution_count": 29,
      "outputs": [
        {
          "output_type": "display_data",
          "data": {
            "text/plain": [
              "<Figure size 50x50 with 1 Axes>"
            ],
            "image/png": "[encoded data removed]"
          },
          "metadata": {}
        },
        {
          "output_type": "display_data",
          "data": {
            "text/plain": [
              "<Figure size 50x50 with 1 Axes>"
            ],
            "image/png": "[encoded data removed]"
          },
          "metadata": {}
        },
        {
          "output_type": "display_data",
          "data": {
            "text/plain": [
              "<Figure size 50x50 with 1 Axes>"
            ],
            "image/png": "[encoded data removed]"
          },
          "metadata": {}
        },
        {
          "output_type": "display_data",
          "data": {
            "text/plain": [
              "<Figure size 50x50 with 1 Axes>"
            ],
            "image/png": "[encoded data removed]"
          },
          "metadata": {}
        },
        {
          "output_type": "display_data",
          "data": {
            "text/plain": [
              "<Figure size 50x50 with 1 Axes>"
            ],
            "image/png": "[encoded data removed]"
          },
          "metadata": {}
        },
        {
          "output_type": "display_data",
          "data": {
            "text/plain": [
              "<Figure size 50x50 with 1 Axes>"
            ],
            "image/png": "[encoded data removed]"
          },
          "metadata": {}
        },
        {
          "output_type": "display_data",
          "data": {
            "text/plain": [
              "<Figure size 50x50 with 1 Axes>"
            ],
            "image/png": "[encoded data removed]"
          },
          "metadata": {}
        },
        {
          "output_type": "display_data",
          "data": {
            "text/plain": [
              "<Figure size 50x50 with 1 Axes>"
            ],
            "image/png": "[encoded data removed]"
          },
          "metadata": {}
        },
        {
          "output_type": "display_data",
          "data": {
            "text/plain": [
              "<Figure size 50x50 with 1 Axes>"
            ],
            "image/png": "[encoded data removed]"
          },
          "metadata": {}
        },
        {
          "output_type": "display_data",
          "data": {
            "text/plain": [
              "<Figure size 50x50 with 1 Axes>"
            ],
            "image/png": "[encoded data removed]"
          },
          "metadata": {}
        }
      ]
    },
    {
      "cell_type": "markdown",
      "source": [
        "We can see the labels seem to correspond with the clearest or most well-formed respective image."
      ],
      "metadata": {
        "id": "Evlb22nUKNmL"
      }
    },
    {
      "cell_type": "markdown",
      "source": [
        "DATA PRE-PROCESSING"
      ],
      "metadata": {
        "id": "8_xxPiOAKYlI"
      }
    },
    {
      "cell_type": "markdown",
      "source": [
        "Shape and array of pixels for first image"
      ],
      "metadata": {
        "id": "m2PtN8ABLYDu"
      }
    },
    {
      "cell_type": "code",
      "source": [
        "first_image = X_train[0]\n",
        "print(\"Shape of the first image:\", first_image.shape)\n",
        "print(\"Array of pixels for the first image:\")\n",
        "print(first_image)"
      ],
      "metadata": {
        "colab": {
          "base_uri": "https://localhost:8080/"
        },
        "id": "aMow1SZBLfVK",
        "outputId": "4bd6b6f3-a85d-4568-a648-a7d901668c5e"
      },
      "execution_count": 30,
      "outputs": [
        {
          "output_type": "stream",
          "name": "stdout",
          "text": [
            "Shape of the first image: (32, 32)\n",
            "Array of pixels for the first image:\n",
            "[[ 33.0704  30.2601  26.852  ...  71.4471  58.2204  42.9939]\n",
            " [ 25.2283  25.5533  29.9765 ... 113.0209 103.3639  84.2949]\n",
            " [ 26.2775  22.6137  40.4763 ... 113.3028 121.775  115.4228]\n",
            " ...\n",
            " [ 28.5502  36.212   45.0801 ...  24.1359  25.0927  26.0603]\n",
            " [ 38.4352  26.4733  23.2717 ...  28.1094  29.4683  30.0661]\n",
            " [ 50.2984  26.0773  24.0389 ...  49.6682  50.853   53.0377]]\n"
          ]
        }
      ]
    },
    {
      "cell_type": "markdown",
      "source": [
        "In this image 113 and the higher numbers likely represent the white part, or brightness level of the image."
      ],
      "metadata": {
        "id": "nELz-UvkMfAS"
      }
    },
    {
      "cell_type": "markdown",
      "source": [
        "The data is 2D, I'm going to flatten it to a 1D array of pixel values"
      ],
      "metadata": {
        "id": "BPG4Kt-BPT7O"
      }
    },
    {
      "cell_type": "code",
      "source": [
        "X_train_flattened = X_train.reshape(X_train.shape[0], -1)\n",
        "X_test_flattened = X_test.reshape(X_test.shape[0], -1)"
      ],
      "metadata": {
        "id": "AVNEnInBPgHX"
      },
      "execution_count": 31,
      "outputs": []
    },
    {
      "cell_type": "markdown",
      "source": [
        "Now Normalize the sets by dividing by 255."
      ],
      "metadata": {
        "id": "nRSUV_1uMtXa"
      }
    },
    {
      "cell_type": "code",
      "source": [
        "X_train_normalized = X_train_flattened / 255\n",
        "X_test_normalized = X_test_flattened / 255"
      ],
      "metadata": {
        "id": "37CfREpiNBzl"
      },
      "execution_count": 32,
      "outputs": []
    },
    {
      "cell_type": "markdown",
      "source": [
        "Now print shape of training and test data."
      ],
      "metadata": {
        "id": "tlKYc9l1NN1S"
      }
    },
    {
      "cell_type": "code",
      "source": [
        "#Training set\n",
        "print(\"Shape of X_train normalized:\", X_train_normalized.shape)\n",
        "print(\"Shape of y_train:\", y_train.shape)\n",
        "#Test set\n",
        "print(\"Shape of X_test_normalized:\", X_test_normalized.shape)\n",
        "print(\"Shape of y_test:\", y_test.shape)\n",
        "\n"
      ],
      "metadata": {
        "colab": {
          "base_uri": "https://localhost:8080/"
        },
        "id": "QJpmRJ8BNWKT",
        "outputId": "2a49398a-bb83-4ead-ed98-6b082e72771e"
      },
      "execution_count": 33,
      "outputs": [
        {
          "output_type": "stream",
          "name": "stdout",
          "text": [
            "Shape of X_train normalized: (42000, 1024)\n",
            "Shape of y_train: (42000,)\n",
            "Shape of X_test_normalized: (18000, 1024)\n",
            "Shape of y_test: (18000,)\n"
          ]
        }
      ]
    },
    {
      "cell_type": "markdown",
      "source": [
        "One-hot encode the target variable"
      ],
      "metadata": {
        "id": "jgJKnjnJRV8t"
      }
    },
    {
      "cell_type": "code",
      "source": [
        "from keras.utils import np_utils"
      ],
      "metadata": {
        "id": "SsqaR2aHRbHy"
      },
      "execution_count": 34,
      "outputs": []
    },
    {
      "cell_type": "code",
      "source": [
        "y_train_encoded = np_utils.to_categorical(y_train)\n",
        "y_test_encoded = np_utils.to_categorical(y_test)"
      ],
      "metadata": {
        "id": "4wMm62sgRh3y"
      },
      "execution_count": 35,
      "outputs": []
    },
    {
      "cell_type": "code",
      "source": [
        "y_test_encoded"
      ],
      "metadata": {
        "colab": {
          "base_uri": "https://localhost:8080/"
        },
        "id": "WtQGnbmHSXXp",
        "outputId": "46be7426-c0e1-49a8-ca88-eeccc8efecea"
      },
      "execution_count": 36,
      "outputs": [
        {
          "output_type": "execute_result",
          "data": {
            "text/plain": [
              "array([[0., 1., 0., ..., 0., 0., 0.],\n",
              "       [0., 0., 0., ..., 1., 0., 0.],\n",
              "       [0., 0., 1., ..., 0., 0., 0.],\n",
              "       ...,\n",
              "       [0., 0., 0., ..., 1., 0., 0.],\n",
              "       [0., 0., 0., ..., 0., 0., 1.],\n",
              "       [0., 0., 1., ..., 0., 0., 0.]], dtype=float32)"
            ]
          },
          "metadata": {},
          "execution_count": 36
        }
      ]
    },
    {
      "cell_type": "markdown",
      "source": [
        "MODEL BUILDING"
      ],
      "metadata": {
        "id": "vTqgSwruS-tK"
      }
    },
    {
      "cell_type": "markdown",
      "source": [
        "Fix the seed for random number generators (essentially make the model reproducable)"
      ],
      "metadata": {
        "id": "Nkiss_qUT-c1"
      }
    },
    {
      "cell_type": "code",
      "source": [
        "seed_value = 42\n",
        "np.random.seed(seed_value)\n",
        "tf.random.set_seed(seed_value)"
      ],
      "metadata": {
        "id": "0UEBuKt1Ua__"
      },
      "execution_count": 37,
      "outputs": []
    },
    {
      "cell_type": "markdown",
      "source": [
        "Build the model"
      ],
      "metadata": {
        "id": "RP-ibSlVUpNo"
      }
    },
    {
      "cell_type": "code",
      "source": [
        "from tensorflow.keras.models import Sequential\n",
        "from tensorflow.keras.layers import Dense\n",
        "from tensorflow.keras.optimizers import Adam"
      ],
      "metadata": {
        "id": "Jrk0NrB3b4_U"
      },
      "execution_count": 38,
      "outputs": []
    },
    {
      "cell_type": "code",
      "source": [
        "#We need to define the function 'nn_model_1'\n",
        "\n",
        "def nn_model_1(num_classes):\n",
        "  model = Sequential([\n",
        "      Dense(64, activation='relu', input_shape=(1024, )),\n",
        "      Dense(32, activation='relu'),\n",
        "      Dense(num_classes, activation='softmax')\n",
        "  ])\n",
        "\n",
        "  model.compile(loss='categorical_crossentropy', #common for multi-class classification problems\n",
        "                optimizer=Adam(learning_rate=0.001),\n",
        "                metrics=['accuracy'])\n",
        "  return model"
      ],
      "metadata": {
        "id": "bNaPZeGSdEfg"
      },
      "execution_count": 39,
      "outputs": []
    },
    {
      "cell_type": "code",
      "source": [
        "#call the nn_model_1 function and store model in new variable\n",
        "num_classes = 10\n",
        "\n",
        "model1 = nn_model_1(num_classes)\n"
      ],
      "metadata": {
        "id": "OEoiSZQkgb5L"
      },
      "execution_count": 40,
      "outputs": []
    },
    {
      "cell_type": "code",
      "source": [
        "#now print model summary\n",
        "\n",
        "model1.summary()"
      ],
      "metadata": {
        "colab": {
          "base_uri": "https://localhost:8080/"
        },
        "id": "Hoo1YQqci7v0",
        "outputId": "266a663d-497b-4258-a687-2da80ef8cbf8"
      },
      "execution_count": 41,
      "outputs": [
        {
          "output_type": "stream",
          "name": "stdout",
          "text": [
            "Model: \"sequential\"\n",
            "_________________________________________________________________\n",
            " Layer (type)                Output Shape              Param #   \n",
            "=================================================================\n",
            " dense (Dense)               (None, 64)                65600     \n",
            "                                                                 \n",
            " dense_1 (Dense)             (None, 32)                2080      \n",
            "                                                                 \n",
            " dense_2 (Dense)             (None, 10)                330       \n",
            "                                                                 \n",
            "=================================================================\n",
            "Total params: 68,010\n",
            "Trainable params: 68,010\n",
            "Non-trainable params: 0\n",
            "_________________________________________________________________\n"
          ]
        }
      ]
    },
    {
      "cell_type": "markdown",
      "source": [
        "This is the summary of the model architecture, including the number of parameters in each layer (65600, 2080, 330) and the total number of parameters in the model (68010)"
      ],
      "metadata": {
        "id": "za5e5vo0jKv0"
      }
    },
    {
      "cell_type": "markdown",
      "source": [
        "Fit on training data"
      ],
      "metadata": {
        "id": "4BqU-gBAjhQw"
      }
    },
    {
      "cell_type": "code",
      "source": [
        "history = model1.fit(X_train_normalized, y_train_encoded, validation_split=0.2, batch_size=128, epochs=20, verbose=1) #20% of training data will be used for validation during training.\n",
        "\n",
        "#model will be updated after every 128 samples\n",
        "#the dataset will be passed through the model 20 times\n",
        "#'hisotry' contains information about the training process"
      ],
      "metadata": {
        "colab": {
          "base_uri": "https://localhost:8080/"
        },
        "id": "FMLU2tn4jt9L",
        "outputId": "c3fed1ea-66d5-4e18-ccc4-41544de35062"
      },
      "execution_count": 42,
      "outputs": [
        {
          "output_type": "stream",
          "name": "stdout",
          "text": [
            "Epoch 1/20\n",
            "263/263 [==============================] - 2s 6ms/step - loss: 2.3002 - accuracy: 0.1056 - val_loss: 2.2788 - val_accuracy: 0.1531\n",
            "Epoch 2/20\n",
            "263/263 [==============================] - 2s 9ms/step - loss: 2.1453 - accuracy: 0.2185 - val_loss: 1.9139 - val_accuracy: 0.3807\n",
            "Epoch 3/20\n",
            "263/263 [==============================] - 2s 8ms/step - loss: 1.7580 - accuracy: 0.4100 - val_loss: 1.6110 - val_accuracy: 0.4765\n",
            "Epoch 4/20\n",
            "263/263 [==============================] - 2s 6ms/step - loss: 1.5101 - accuracy: 0.5140 - val_loss: 1.4392 - val_accuracy: 0.5406\n",
            "Epoch 5/20\n",
            "263/263 [==============================] - 1s 5ms/step - loss: 1.3847 - accuracy: 0.5574 - val_loss: 1.3649 - val_accuracy: 0.5600\n",
            "Epoch 6/20\n",
            "263/263 [==============================] - 2s 6ms/step - loss: 1.3098 - accuracy: 0.5860 - val_loss: 1.2696 - val_accuracy: 0.5988\n",
            "Epoch 7/20\n",
            "263/263 [==============================] - 2s 6ms/step - loss: 1.2636 - accuracy: 0.6009 - val_loss: 1.2507 - val_accuracy: 0.6150\n",
            "Epoch 8/20\n",
            "263/263 [==============================] - 1s 6ms/step - loss: 1.2343 - accuracy: 0.6103 - val_loss: 1.2211 - val_accuracy: 0.6242\n",
            "Epoch 9/20\n",
            "263/263 [==============================] - 2s 8ms/step - loss: 1.1963 - accuracy: 0.6263 - val_loss: 1.1873 - val_accuracy: 0.6308\n",
            "Epoch 10/20\n",
            "263/263 [==============================] - 2s 9ms/step - loss: 1.1747 - accuracy: 0.6319 - val_loss: 1.1830 - val_accuracy: 0.6345\n",
            "Epoch 11/20\n",
            "263/263 [==============================] - 2s 7ms/step - loss: 1.1552 - accuracy: 0.6412 - val_loss: 1.1771 - val_accuracy: 0.6376\n",
            "Epoch 12/20\n",
            "263/263 [==============================] - 1s 5ms/step - loss: 1.1372 - accuracy: 0.6480 - val_loss: 1.1433 - val_accuracy: 0.6474\n",
            "Epoch 13/20\n",
            "263/263 [==============================] - 1s 3ms/step - loss: 1.1183 - accuracy: 0.6564 - val_loss: 1.1263 - val_accuracy: 0.6548\n",
            "Epoch 14/20\n",
            "263/263 [==============================] - 1s 3ms/step - loss: 1.0984 - accuracy: 0.6642 - val_loss: 1.0961 - val_accuracy: 0.6692\n",
            "Epoch 15/20\n",
            "263/263 [==============================] - 1s 4ms/step - loss: 1.0756 - accuracy: 0.6739 - val_loss: 1.0733 - val_accuracy: 0.6750\n",
            "Epoch 16/20\n",
            "263/263 [==============================] - 1s 4ms/step - loss: 1.0593 - accuracy: 0.6787 - val_loss: 1.0917 - val_accuracy: 0.6639\n",
            "Epoch 17/20\n",
            "263/263 [==============================] - 1s 3ms/step - loss: 1.0429 - accuracy: 0.6844 - val_loss: 1.0445 - val_accuracy: 0.6842\n",
            "Epoch 18/20\n",
            "263/263 [==============================] - 1s 4ms/step - loss: 1.0395 - accuracy: 0.6829 - val_loss: 1.0636 - val_accuracy: 0.6837\n",
            "Epoch 19/20\n",
            "263/263 [==============================] - 1s 3ms/step - loss: 1.0257 - accuracy: 0.6878 - val_loss: 1.0466 - val_accuracy: 0.6850\n",
            "Epoch 20/20\n",
            "263/263 [==============================] - 1s 4ms/step - loss: 1.0105 - accuracy: 0.6942 - val_loss: 1.0454 - val_accuracy: 0.6838\n"
          ]
        }
      ]
    },
    {
      "cell_type": "markdown",
      "source": [
        "The very last test had some of the lowest losses and highest accuracies. The model was presumably learning. That being said an 18-19 percent accuracy, is very poor."
      ],
      "metadata": {
        "id": "y63o4z0UlG84"
      }
    },
    {
      "cell_type": "markdown",
      "source": [
        "Now I'm going to plot the training and validation accuracies to get a better understanding of the model's performance."
      ],
      "metadata": {
        "id": "VCQaEA-tq5IK"
      }
    },
    {
      "cell_type": "code",
      "source": [
        "plt.plot(history.history['accuracy'], label='Training Accuracy') #labeling makes for clean visuals\n",
        "plt.plot(history.history['val_accuracy'], label='Validation Accuracy')\n",
        "plt.xlabel('Epoch')\n",
        "plt.ylabel('Accuracy')\n",
        "plt.legend()\n",
        "plt.title('Training and Validation Accuracies')\n",
        "plt.show()\n"
      ],
      "metadata": {
        "colab": {
          "base_uri": "https://localhost:8080/",
          "height": 472
        },
        "id": "Fa05YYjyqz7e",
        "outputId": "7cd8bfae-6c86-403e-fdba-2ee15d4108f9"
      },
      "execution_count": 43,
      "outputs": [
        {
          "output_type": "display_data",
          "data": {
            "text/plain": [
              "<Figure size 640x480 with 1 Axes>"
            ],
            "image/png": "[encoded data removed]"
          },
          "metadata": {}
        }
      ]
    },
    {
      "cell_type": "markdown",
      "source": [
        "Observations: The training accuracy and validation accuracy both increase and stay relatively close to each other, it suggests that the model is learning effectively, and there is no significant overfitting."
      ],
      "metadata": {
        "id": "jnKWtxJ1rlIX"
      }
    },
    {
      "cell_type": "markdown",
      "source": [
        "2ND MODEL: Im going to build another model with higher complexities in hopes to improve the performance of the model."
      ],
      "metadata": {
        "id": "iY4F74f9sCkD"
      }
    },
    {
      "cell_type": "code",
      "source": [
        "#First we need to clear the history of the first model from the Keras backend\n",
        "from keras import backend as K\n",
        "\n",
        "K.clear_session()"
      ],
      "metadata": {
        "id": "OEcz6uD1sX4f"
      },
      "execution_count": 44,
      "outputs": []
    },
    {
      "cell_type": "code",
      "source": [
        "seed_value = 42\n",
        "np.random.seed(seed_value)\n",
        "tf.random.set_seed(seed_value)\n"
      ],
      "metadata": {
        "id": "RFojKRBpvRXj"
      },
      "execution_count": 45,
      "outputs": []
    },
    {
      "cell_type": "markdown",
      "source": [
        "Now I'm ready to begin building the second model."
      ],
      "metadata": {
        "id": "7RVxGkguwVKr"
      }
    },
    {
      "cell_type": "code",
      "source": [
        "import numpy as np\n",
        "import tensorflow as tf\n",
        "from tensorflow.keras.models import Sequential\n",
        "from tensorflow.keras.layers import Dense, Dropout, BatchNormalization\n",
        "from tensorflow.keras.optimizers import Adam\n",
        "\n",
        "def nn_model_2(num_classes):\n",
        "  model = Sequential([\n",
        "      Dense(256, activation='relu', input_shape=(1024, )),\n",
        "      Dense(128, activation='relu'),\n",
        "      Dropout(0.2), #force the model to learn in a general way.\n",
        "      Dense(64, activation='relu'),\n",
        "      Dense(64, activation='relu'),\n",
        "      Dense(32, activation='relu'),\n",
        "      BatchNormalization(),\n",
        "      Dense(num_classes, activation='softmax')\n",
        "  ])\n",
        "\n",
        "  model.compile(loss='categorical_crossentropy',\n",
        "                optimizer=Adam(learning_rate=0.0005),\n",
        "                metrics=['accuracy'])\n",
        "  return model\n",
        "\n"
      ],
      "metadata": {
        "id": "L8KjYtrKwcsO"
      },
      "execution_count": 52,
      "outputs": []
    },
    {
      "cell_type": "code",
      "source": [
        "num_classes = 10\n",
        "model2 = nn_model_2(num_classes)"
      ],
      "metadata": {
        "id": "nK6I8gMcnk3P"
      },
      "execution_count": 53,
      "outputs": []
    },
    {
      "cell_type": "code",
      "source": [
        "model2.summary()"
      ],
      "metadata": {
        "colab": {
          "base_uri": "https://localhost:8080/"
        },
        "id": "2jydEmpHpAac",
        "outputId": "312511ca-764c-4efb-e0a9-1ef46afa262d"
      },
      "execution_count": 55,
      "outputs": [
        {
          "output_type": "stream",
          "name": "stdout",
          "text": [
            "Model: \"sequential\"\n",
            "_________________________________________________________________\n",
            " Layer (type)                Output Shape              Param #   \n",
            "=================================================================\n",
            " dense_2 (Dense)             (None, 256)               262400    \n",
            "                                                                 \n",
            " dense_3 (Dense)             (None, 128)               32896     \n",
            "                                                                 \n",
            " dropout (Dropout)           (None, 128)               0         \n",
            "                                                                 \n",
            " dense_4 (Dense)             (None, 64)                8256      \n",
            "                                                                 \n",
            " dense_5 (Dense)             (None, 64)                4160      \n",
            "                                                                 \n",
            " dense_6 (Dense)             (None, 32)                2080      \n",
            "                                                                 \n",
            " batch_normalization (BatchN  (None, 32)               128       \n",
            " ormalization)                                                   \n",
            "                                                                 \n",
            " dense_7 (Dense)             (None, 10)                330       \n",
            "                                                                 \n",
            "=================================================================\n",
            "Total params: 310,250\n",
            "Trainable params: 310,186\n",
            "Non-trainable params: 64\n",
            "_________________________________________________________________\n"
          ]
        }
      ]
    },
    {
      "cell_type": "markdown",
      "source": [
        "Now I'll fit model2 on the training data"
      ],
      "metadata": {
        "id": "eTV7heSxpf-6"
      }
    },
    {
      "cell_type": "code",
      "source": [
        "history = model2.fit(X_train_normalized, y_train_encoded, validation_split=0.2, batch_size=128, epochs=30, verbose=1)\n"
      ],
      "metadata": {
        "colab": {
          "base_uri": "https://localhost:8080/"
        },
        "id": "KXarlkVcpmfg",
        "outputId": "79f91333-69b9-4142-a217-a351f7716e93"
      },
      "execution_count": 57,
      "outputs": [
        {
          "output_type": "stream",
          "name": "stdout",
          "text": [
            "Epoch 1/30\n",
            "263/263 [==============================] - 3s 8ms/step - loss: 2.3530 - accuracy: 0.0998 - val_loss: 2.3100 - val_accuracy: 0.1012\n",
            "Epoch 2/30\n",
            "263/263 [==============================] - 2s 8ms/step - loss: 2.2975 - accuracy: 0.1162 - val_loss: 2.2784 - val_accuracy: 0.1280\n",
            "Epoch 3/30\n",
            "263/263 [==============================] - 2s 8ms/step - loss: 1.9470 - accuracy: 0.2837 - val_loss: 1.8249 - val_accuracy: 0.3937\n",
            "Epoch 4/30\n",
            "263/263 [==============================] - 2s 8ms/step - loss: 1.5464 - accuracy: 0.4656 - val_loss: 1.4425 - val_accuracy: 0.5099\n",
            "Epoch 5/30\n",
            "263/263 [==============================] - 3s 11ms/step - loss: 1.3177 - accuracy: 0.5636 - val_loss: 1.2305 - val_accuracy: 0.6060\n",
            "Epoch 6/30\n",
            "263/263 [==============================] - 2s 9ms/step - loss: 1.2171 - accuracy: 0.6032 - val_loss: 1.1408 - val_accuracy: 0.6332\n",
            "Epoch 7/30\n",
            "263/263 [==============================] - 2s 8ms/step - loss: 1.1515 - accuracy: 0.6284 - val_loss: 1.0164 - val_accuracy: 0.6789\n",
            "Epoch 8/30\n",
            "263/263 [==============================] - 2s 8ms/step - loss: 1.0919 - accuracy: 0.6506 - val_loss: 1.0004 - val_accuracy: 0.6854\n",
            "Epoch 9/30\n",
            "263/263 [==============================] - 2s 8ms/step - loss: 1.0416 - accuracy: 0.6682 - val_loss: 0.9545 - val_accuracy: 0.6948\n",
            "Epoch 10/30\n",
            "263/263 [==============================] - 2s 9ms/step - loss: 1.0052 - accuracy: 0.6810 - val_loss: 0.9459 - val_accuracy: 0.6962\n",
            "Epoch 11/30\n",
            "263/263 [==============================] - 3s 11ms/step - loss: 0.9713 - accuracy: 0.6899 - val_loss: 0.8922 - val_accuracy: 0.7163\n",
            "Epoch 12/30\n",
            "263/263 [==============================] - 2s 8ms/step - loss: 0.9432 - accuracy: 0.7015 - val_loss: 0.8961 - val_accuracy: 0.7133\n",
            "Epoch 13/30\n",
            "263/263 [==============================] - 2s 8ms/step - loss: 0.9239 - accuracy: 0.7080 - val_loss: 0.9599 - val_accuracy: 0.6923\n",
            "Epoch 14/30\n",
            "263/263 [==============================] - 2s 8ms/step - loss: 0.9066 - accuracy: 0.7137 - val_loss: 0.8740 - val_accuracy: 0.7211\n",
            "Epoch 15/30\n",
            "263/263 [==============================] - 2s 8ms/step - loss: 0.8819 - accuracy: 0.7190 - val_loss: 0.8822 - val_accuracy: 0.7179\n",
            "Epoch 16/30\n",
            "263/263 [==============================] - 3s 10ms/step - loss: 0.8587 - accuracy: 0.7282 - val_loss: 0.8779 - val_accuracy: 0.7221\n",
            "Epoch 17/30\n",
            "263/263 [==============================] - 2s 9ms/step - loss: 0.8448 - accuracy: 0.7322 - val_loss: 0.8208 - val_accuracy: 0.7418\n",
            "Epoch 18/30\n",
            "263/263 [==============================] - 2s 8ms/step - loss: 0.8293 - accuracy: 0.7356 - val_loss: 0.8058 - val_accuracy: 0.7460\n",
            "Epoch 19/30\n",
            "263/263 [==============================] - 2s 8ms/step - loss: 0.8311 - accuracy: 0.7360 - val_loss: 0.8188 - val_accuracy: 0.7418\n",
            "Epoch 20/30\n",
            "263/263 [==============================] - 2s 8ms/step - loss: 0.8073 - accuracy: 0.7456 - val_loss: 0.7914 - val_accuracy: 0.7568\n",
            "Epoch 21/30\n",
            "263/263 [==============================] - 2s 9ms/step - loss: 0.7852 - accuracy: 0.7514 - val_loss: 0.8331 - val_accuracy: 0.7426\n",
            "Epoch 22/30\n",
            "263/263 [==============================] - 3s 11ms/step - loss: 0.7791 - accuracy: 0.7521 - val_loss: 0.8676 - val_accuracy: 0.7215\n",
            "Epoch 23/30\n",
            "263/263 [==============================] - 2s 9ms/step - loss: 0.7732 - accuracy: 0.7527 - val_loss: 0.7818 - val_accuracy: 0.7560\n",
            "Epoch 24/30\n",
            "263/263 [==============================] - 4s 14ms/step - loss: 0.7615 - accuracy: 0.7593 - val_loss: 0.7684 - val_accuracy: 0.7611\n",
            "Epoch 25/30\n",
            "263/263 [==============================] - 3s 10ms/step - loss: 0.7514 - accuracy: 0.7622 - val_loss: 0.7928 - val_accuracy: 0.7495\n",
            "Epoch 26/30\n",
            "263/263 [==============================] - 2s 8ms/step - loss: 0.7448 - accuracy: 0.7632 - val_loss: 0.7657 - val_accuracy: 0.7593\n",
            "Epoch 27/30\n",
            "263/263 [==============================] - 3s 11ms/step - loss: 0.7308 - accuracy: 0.7689 - val_loss: 0.7342 - val_accuracy: 0.7769\n",
            "Epoch 28/30\n",
            "263/263 [==============================] - 2s 8ms/step - loss: 0.7282 - accuracy: 0.7679 - val_loss: 0.7594 - val_accuracy: 0.7645\n",
            "Epoch 29/30\n",
            "263/263 [==============================] - 2s 8ms/step - loss: 0.7277 - accuracy: 0.7696 - val_loss: 0.7532 - val_accuracy: 0.7715\n",
            "Epoch 30/30\n",
            "263/263 [==============================] - 2s 8ms/step - loss: 0.7044 - accuracy: 0.7765 - val_loss: 0.7175 - val_accuracy: 0.7801\n"
          ]
        }
      ]
    },
    {
      "cell_type": "markdown",
      "source": [
        "Before discussing observations, I will plot the training and validation accuracies as before."
      ],
      "metadata": {
        "id": "xBvB7a40qhBM"
      }
    },
    {
      "cell_type": "code",
      "source": [
        "import matplotlib.pyplot as plt\n",
        "\n",
        "plt.plot(history.history['accuracy'], label= 'Training Accuracy')\n",
        "plt.plot(history.history['val_accuracy'], label='Validation Accuracy')\n",
        "plt.xlabel('Epoch')\n",
        "plt.ylabel('Accuracy')\n",
        "plt.legend()\n",
        "plt.title('Training and Validation Accuracies')\n",
        "plt.show()"
      ],
      "metadata": {
        "colab": {
          "base_uri": "https://localhost:8080/",
          "height": 472
        },
        "id": "49OqrI3YqrpG",
        "outputId": "5bcb4fba-2d74-4152-8eb4-156e9294a4f0"
      },
      "execution_count": 58,
      "outputs": [
        {
          "output_type": "display_data",
          "data": {
            "text/plain": [
              "<Figure size 640x480 with 1 Axes>"
            ],
            "image/png": "[encoded data removed]"
          },
          "metadata": {}
        }
      ]
    },
    {
      "cell_type": "markdown",
      "source": [
        "**Observations:** Both training and validation accuracies are close to each other, with the validation accuracy being slightly higher. This suggests that the model is not significantly overfitting and is generalizing reasonably well to unseen data. The small difference between training and validation accuracies indicates that the model is learning useful patterns from the training data without memorizing it.The model's accuracy of around 78% on both training and validation sets indicates that the model is performing reasonably well. However, the accuracy might be improved further by trying different model architectures. I think the model would do better by adding more layers and increasing number of epochs."
      ],
      "metadata": {
        "id": "moY9VV8ArvQI"
      }
    },
    {
      "cell_type": "markdown",
      "source": [
        "Make predictions on the test set using the 2nd model."
      ],
      "metadata": {
        "id": "DHONeI9EseQj"
      }
    },
    {
      "cell_type": "code",
      "source": [
        "predictions = model2.predict(X_test_normalized)"
      ],
      "metadata": {
        "colab": {
          "base_uri": "https://localhost:8080/"
        },
        "id": "G7pycG-os_P8",
        "outputId": "d3aea567-b938-4c25-aa21-60c9aee7f95c"
      },
      "execution_count": 59,
      "outputs": [
        {
          "output_type": "stream",
          "name": "stdout",
          "text": [
            "563/563 [==============================] - 1s 2ms/step\n"
          ]
        }
      ]
    },
    {
      "cell_type": "markdown",
      "source": [
        "Use classification report and confusion matrix to print the result"
      ],
      "metadata": {
        "id": "IWAaezATtInf"
      }
    },
    {
      "cell_type": "code",
      "source": [
        "from sklearn.metrics import classification_report, confusion_matrix\n",
        "\n",
        "predicted_labels = np.argmax(predictions, axis=1)\n",
        "true_labels = np.argmax(y_test_encoded, axis=1)\n",
        "\n",
        "print(\"Classification Report:\")\n",
        "print(classification_report(true_labels, predicted_labels))\n",
        "\n",
        "print('Confusion Matrix:')\n",
        "print(confusion_matrix(true_labels, predicted_labels))\n"
      ],
      "metadata": {
        "colab": {
          "base_uri": "https://localhost:8080/"
        },
        "id": "bMWE58cstQB4",
        "outputId": "7044d425-d844-4db0-bf87-39f6aaf07bd0"
      },
      "execution_count": 60,
      "outputs": [
        {
          "output_type": "stream",
          "name": "stdout",
          "text": [
            "Classification Report:\n",
            "              precision    recall  f1-score   support\n",
            "\n",
            "           0       0.84      0.79      0.81      1814\n",
            "           1       0.76      0.81      0.78      1828\n",
            "           2       0.78      0.82      0.80      1803\n",
            "           3       0.75      0.76      0.75      1719\n",
            "           4       0.85      0.80      0.83      1812\n",
            "           5       0.79      0.75      0.77      1768\n",
            "           6       0.82      0.71      0.76      1832\n",
            "           7       0.78      0.84      0.81      1808\n",
            "           8       0.70      0.77      0.73      1812\n",
            "           9       0.76      0.77      0.76      1804\n",
            "\n",
            "    accuracy                           0.78     18000\n",
            "   macro avg       0.78      0.78      0.78     18000\n",
            "weighted avg       0.78      0.78      0.78     18000\n",
            "\n",
            "Confusion Matrix:\n",
            "[[1426   50   25   31   36    5   54   29   72   86]\n",
            " [  19 1474   43   49   36   10   17  115   40   25]\n",
            " [   9   33 1482   52   23   19    8  105   31   41]\n",
            " [  17   50   65 1301   17  113    9   53   58   36]\n",
            " [  23   65   55   27 1453   18   60   17   44   50]\n",
            " [  27   37   20  132   14 1324   51   20   75   68]\n",
            " [  70   51   25   18   61   71 1308   13  187   28]\n",
            " [  17   70  100   23    6    9   11 1520   21   31]\n",
            " [  30   53   39   55   31   59   55   22 1389   79]\n",
            " [  52   55   38   56   26   52   18   52   64 1391]]\n"
          ]
        }
      ]
    },
    {
      "cell_type": "markdown",
      "source": [
        "**Observation:** The weighted average of precision, recall, and F1-score is around 0.78, indicating that the model has balanced performance across classes. Overall, the model shows relatively good performance on most of the classes, with F1-scores ranging from 0.73 to 0.83. However, some classes (e.g., Class 8 and Class 6) have slightly lower performance in terms of precision and recall compared to other classes. This might indicate that the model has some difficulty distinguishing these classes from others.\n",
        "\n",
        "Model2 is showing more accuracy and learning ability than the previous model (model1). Indicating the second archectural structure, featuring higher epochs, more layers, etc. was moving in a more beneficial direction for model training and performance."
      ],
      "metadata": {
        "id": "MaVsRFMzvnML"
      }
    }
  ]
}