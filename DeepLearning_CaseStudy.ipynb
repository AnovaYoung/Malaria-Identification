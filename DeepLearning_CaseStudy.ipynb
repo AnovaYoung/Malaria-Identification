{
  "nbformat": 4,
  "nbformat_minor": 0,
  "metadata": {
    "colab": {
      "provenance": [],
      "mount_file_id": "1TSqDBcXhSTabUzuQhtjWKAK14hoj40RX",
      "authorship_tag": "ABX9TyO+g6L526Km0MX/fdoMujlq",
      "include_colab_link": true
    },
    "kernelspec": {
      "name": "python3",
      "display_name": "Python 3"
    },
    "language_info": {
      "name": "python"
    }
  },
  "cells": [
    {
      "cell_type": "markdown",
      "metadata": {
        "id": "view-in-github",
        "colab_type": "text"
      },
      "source": [
        "<a href=\"https://colab.research.google.com/github/MelYoungers/whatsmyshape/blob/main/DeepLearning_CaseStudy.ipynb\" target=\"_parent\"><img src=\"https://colab.research.google.com/assets/colab-badge.svg\" alt=\"Open In Colab\"/></a>"
      ]
    },
    {
      "cell_type": "markdown",
      "source": [
        "Objective: Predict the number depicted inside the image by using Artificial or Fully Connected Feed Forward Neural Networks and Convolutional Neural Networks. We will go through various models of each and finally select the one that is giving us the best performance."
      ],
      "metadata": {
        "id": "A7VJrppwQRQ0"
      }
    },
    {
      "cell_type": "code",
      "source": [
        "from google.colab import drive\n",
        "\n",
        "drive.mount('/content/drive')"
      ],
      "metadata": {
        "colab": {
          "base_uri": "https://localhost:8080/",
          "height": 0
        },
        "id": "WSrOI-8PQVoI",
        "outputId": "3ed6d8a2-f658-45e3-ce24-6b1dc14e2801"
      },
      "execution_count": 1,
      "outputs": [
        {
          "output_type": "stream",
          "name": "stdout",
          "text": [
            "Drive already mounted at /content/drive; to attempt to forcibly remount, call drive.mount(\"/content/drive\", force_remount=True).\n"
          ]
        }
      ]
    },
    {
      "cell_type": "markdown",
      "source": [
        "Import libraries, first Data Handling and Manipulation."
      ],
      "metadata": {
        "id": "DuW70DjhSvsA"
      }
    },
    {
      "cell_type": "code",
      "source": [
        "import numpy as np\n",
        "import pandas as pd\n",
        "import matplotlib.pyplot as plt\n",
        "import seaborn as sns\n"
      ],
      "metadata": {
        "id": "iPTpPloGSTCV"
      },
      "execution_count": 2,
      "outputs": []
    },
    {
      "cell_type": "markdown",
      "source": [
        "Deep Learning Frameworks"
      ],
      "metadata": {
        "id": "B6aClw8tSjBZ"
      }
    },
    {
      "cell_type": "code",
      "source": [
        "import tensorflow as tf\n",
        "from tensorflow import keras\n",
        "import torch\n",
        "import torchvision"
      ],
      "metadata": {
        "id": "5x7xVOVlSmgH"
      },
      "execution_count": 3,
      "outputs": []
    },
    {
      "cell_type": "markdown",
      "source": [
        "Computer Vision, Image Processing"
      ],
      "metadata": {
        "id": "IxwmsezVTMuD"
      }
    },
    {
      "cell_type": "code",
      "source": [
        "import cv2\n",
        "from PIL import Image\n",
        "\n"
      ],
      "metadata": {
        "id": "COfvNGf6TVUE"
      },
      "execution_count": 4,
      "outputs": []
    },
    {
      "cell_type": "markdown",
      "source": [
        "Model Evaluation and Metrics"
      ],
      "metadata": {
        "id": "WdAfPPbFTphX"
      }
    },
    {
      "cell_type": "code",
      "source": [
        "from sklearn import metrics\n"
      ],
      "metadata": {
        "id": "n9EeRQCoTsMH"
      },
      "execution_count": 5,
      "outputs": []
    },
    {
      "cell_type": "markdown",
      "source": [
        "Data Pre-Processing"
      ],
      "metadata": {
        "id": "QWqb-56PUCnz"
      }
    },
    {
      "cell_type": "code",
      "source": [
        "from skimage import transform, filters, util"
      ],
      "metadata": {
        "id": "9dQ1jKnUUPhz"
      },
      "execution_count": 6,
      "outputs": []
    },
    {
      "cell_type": "markdown",
      "source": [
        "Now I'm going to exclude warnings"
      ],
      "metadata": {
        "id": "7Xo8wDkyVu3j"
      }
    },
    {
      "cell_type": "code",
      "source": [
        "import warnings\n",
        "\n",
        "warnings.filterwarnings(\"ignore\")"
      ],
      "metadata": {
        "id": "zeyxPNLTV2z1"
      },
      "execution_count": 7,
      "outputs": []
    },
    {
      "cell_type": "markdown",
      "source": [
        "Checking the version of Tensorflow"
      ],
      "metadata": {
        "id": "aoX3mUsuV6aj"
      }
    },
    {
      "cell_type": "code",
      "source": [
        "print(\"TensorFlow version:\", tf.__version__)"
      ],
      "metadata": {
        "colab": {
          "base_uri": "https://localhost:8080/",
          "height": 0
        },
        "id": "-AQtzDf6ZOKm",
        "outputId": "698eb7fd-80b0-4c63-96dc-af0a8d606c98"
      },
      "execution_count": 8,
      "outputs": [
        {
          "output_type": "stream",
          "name": "stdout",
          "text": [
            "TensorFlow version: 2.12.0\n"
          ]
        }
      ]
    },
    {
      "cell_type": "markdown",
      "source": [
        "Load the Dataset, then split it into train and test sets."
      ],
      "metadata": {
        "id": "SQAiWNX2aB5E"
      }
    },
    {
      "cell_type": "code",
      "source": [
        "import h5py"
      ],
      "metadata": {
        "id": "_OaipMdSuCsb"
      },
      "execution_count": 9,
      "outputs": []
    },
    {
      "cell_type": "code",
      "source": [
        "!pip install scikit-learn"
      ],
      "metadata": {
        "colab": {
          "base_uri": "https://localhost:8080/",
          "height": 0
        },
        "id": "kNVMnq88uIuk",
        "outputId": "81f986b9-8653-42a2-87c8-ddc56f3fbf78"
      },
      "execution_count": 10,
      "outputs": [
        {
          "output_type": "stream",
          "name": "stdout",
          "text": [
            "Requirement already satisfied: scikit-learn in /usr/local/lib/python3.10/dist-packages (1.2.2)\n",
            "Requirement already satisfied: numpy>=1.17.3 in /usr/local/lib/python3.10/dist-packages (from scikit-learn) (1.22.4)\n",
            "Requirement already satisfied: scipy>=1.3.2 in /usr/local/lib/python3.10/dist-packages (from scikit-learn) (1.10.1)\n",
            "Requirement already satisfied: joblib>=1.1.1 in /usr/local/lib/python3.10/dist-packages (from scikit-learn) (1.3.1)\n",
            "Requirement already satisfied: threadpoolctl>=2.0.0 in /usr/local/lib/python3.10/dist-packages (from scikit-learn) (3.1.0)\n"
          ]
        }
      ]
    },
    {
      "cell_type": "code",
      "source": [
        "from sklearn.model_selection import train_test_split"
      ],
      "metadata": {
        "id": "_wMcGd83uO7X"
      },
      "execution_count": 11,
      "outputs": []
    },
    {
      "cell_type": "code",
      "source": [
        "file_path = '/content/SVHN_single_grey.h5'\n"
      ],
      "metadata": {
        "id": "ZKf_78SD5Gta"
      },
      "execution_count": 17,
      "outputs": []
    },
    {
      "cell_type": "code",
      "source": [
        "from h5py._hl.files import h5f\n",
        "with h5py.File(file_path, 'r') as hdf:\n",
        "  X_train = hdf['X_train'][:]\n",
        "  y_train = hdf['y_train'][:]\n",
        "  X_test = hdf['X_test'][:]\n",
        "  y_test = hdf['y_test'][:]\n",
        "\n",
        "  hdf.close()\n",
        "\n",
        "  print(\"Success\") if True else None"
      ],
      "metadata": {
        "colab": {
          "base_uri": "https://localhost:8080/",
          "height": 0
        },
        "id": "7-6ylm1tpbMH",
        "outputId": "250183c9-870b-43bf-9a94-1a798635560e"
      },
      "execution_count": 23,
      "outputs": [
        {
          "output_type": "stream",
          "name": "stdout",
          "text": [
            "Success\n"
          ]
        }
      ]
    },
    {
      "cell_type": "markdown",
      "source": [
        "Checking number of images in the training and testing dataset."
      ],
      "metadata": {
        "id": "nhH4JPn9HFol"
      }
    },
    {
      "cell_type": "code",
      "source": [
        "print(\" Number images in Training dataset\", X_train.shape[0])\n",
        "print(\"Number images in Testing dataset\", X_test.shape[0])"
      ],
      "metadata": {
        "colab": {
          "base_uri": "https://localhost:8080/",
          "height": 0
        },
        "id": "b_U8xg6ZHQqf",
        "outputId": "2cb39101-dfe2-40b2-a0c4-d88b6ca63208"
      },
      "execution_count": 26,
      "outputs": [
        {
          "output_type": "stream",
          "name": "stdout",
          "text": [
            " Number images in Training dataset 42000\n",
            "Number images in Testing dataset 18000\n"
          ]
        }
      ]
    },
    {
      "cell_type": "markdown",
      "source": [
        "Now lets visualize the data."
      ],
      "metadata": {
        "id": "ZJXmO4YTIpOA"
      }
    },
    {
      "cell_type": "code",
      "source": [
        "for i in range(10):\n",
        "  plt.figure(figsize=(.5, .5))\n",
        "  plt.imshow(X_train[i], cmap='gray')\n",
        "  plt.title(f\"Label: {y_train[i]}\")\n",
        "  plt.axis('off') # hides axis tick marks in plot, makes for cleaner display.\n",
        "  plt.show()"
      ],
      "metadata": {
        "colab": {
          "base_uri": "https://localhost:8080/",
          "height": 817
        },
        "id": "UsvlK6LbJO0Y",
        "outputId": "d432d10c-e973-4f7f-f74e-0c1c0b33fdeb"
      },
      "execution_count": 28,
      "outputs": [
        {
          "output_type": "display_data",
          "data": {
            "text/plain": [
              "<Figure size 50x50 with 1 Axes>"
            ],
            "image/png": "[encoded data removed]"
          },
          "metadata": {}
        },
        {
          "output_type": "display_data",
          "data": {
            "text/plain": [
              "<Figure size 50x50 with 1 Axes>"
            ],
            "image/png": "[encoded data removed]"
          },
          "metadata": {}
        },
        {
          "output_type": "display_data",
          "data": {
            "text/plain": [
              "<Figure size 50x50 with 1 Axes>"
            ],
            "image/png": "[encoded data removed]"
          },
          "metadata": {}
        },
        {
          "output_type": "display_data",
          "data": {
            "text/plain": [
              "<Figure size 50x50 with 1 Axes>"
            ],
            "image/png": "[encoded data removed]"
          },
          "metadata": {}
        },
        {
          "output_type": "display_data",
          "data": {
            "text/plain": [
              "<Figure size 50x50 with 1 Axes>"
            ],
            "image/png": "[encoded data removed]"
          },
          "metadata": {}
        },
        {
          "output_type": "display_data",
          "data": {
            "text/plain": [
              "<Figure size 50x50 with 1 Axes>"
            ],
            "image/png": "[encoded data removed]"
          },
          "metadata": {}
        },
        {
          "output_type": "display_data",
          "data": {
            "text/plain": [
              "<Figure size 50x50 with 1 Axes>"
            ],
            "image/png": "[encoded data removed]"
          },
          "metadata": {}
        },
        {
          "output_type": "display_data",
          "data": {
            "text/plain": [
              "<Figure size 50x50 with 1 Axes>"
            ],
            "image/png": "[encoded data removed]"
          },
          "metadata": {}
        },
        {
          "output_type": "display_data",
          "data": {
            "text/plain": [
              "<Figure size 50x50 with 1 Axes>"
            ],
            "image/png": "[encoded data removed]"
          },
          "metadata": {}
        },
        {
          "output_type": "display_data",
          "data": {
            "text/plain": [
              "<Figure size 50x50 with 1 Axes>"
            ],
            "image/png": "[encoded data removed]"
          },
          "metadata": {}
        }
      ]
    },
    {
      "cell_type": "markdown",
      "source": [
        "We can see the labels seem to correspond with the clearest or most well-formed respective image."
      ],
      "metadata": {
        "id": "Evlb22nUKNmL"
      }
    },
    {
      "cell_type": "markdown",
      "source": [
        "DATA PRE-PROCESSING"
      ],
      "metadata": {
        "id": "8_xxPiOAKYlI"
      }
    },
    {
      "cell_type": "markdown",
      "source": [
        "Shape and array of pixels for first image"
      ],
      "metadata": {
        "id": "m2PtN8ABLYDu"
      }
    },
    {
      "cell_type": "code",
      "source": [
        "first_image = X_train[0]\n",
        "print(\"Shape of the first image:\", first_image.shape)\n",
        "print(\"Array of pixels for the first image:\")\n",
        "print(first_image)"
      ],
      "metadata": {
        "colab": {
          "base_uri": "https://localhost:8080/",
          "height": 0
        },
        "id": "aMow1SZBLfVK",
        "outputId": "e7eacaaa-4686-47c6-d8da-350c53f0658a"
      },
      "execution_count": 29,
      "outputs": [
        {
          "output_type": "stream",
          "name": "stdout",
          "text": [
            "Shape of the first image: (32, 32)\n",
            "Array of pixels for the first image:\n",
            "[[ 33.0704  30.2601  26.852  ...  71.4471  58.2204  42.9939]\n",
            " [ 25.2283  25.5533  29.9765 ... 113.0209 103.3639  84.2949]\n",
            " [ 26.2775  22.6137  40.4763 ... 113.3028 121.775  115.4228]\n",
            " ...\n",
            " [ 28.5502  36.212   45.0801 ...  24.1359  25.0927  26.0603]\n",
            " [ 38.4352  26.4733  23.2717 ...  28.1094  29.4683  30.0661]\n",
            " [ 50.2984  26.0773  24.0389 ...  49.6682  50.853   53.0377]]\n"
          ]
        }
      ]
    },
    {
      "cell_type": "markdown",
      "source": [
        "In this image 113 and the higher numbers likely represent the white part, or brightness level of the image."
      ],
      "metadata": {
        "id": "nELz-UvkMfAS"
      }
    },
    {
      "cell_type": "markdown",
      "source": [
        "The data is 2D, I'm going to flatten it to a 1D array of pixel values"
      ],
      "metadata": {
        "id": "BPG4Kt-BPT7O"
      }
    },
    {
      "cell_type": "code",
      "source": [
        "X_train_flattened = X_train.reshape(X_train.shape[0], -1)\n",
        "X_test_flattened = X_test.reshape(X_test.shape[0], -1)"
      ],
      "metadata": {
        "id": "AVNEnInBPgHX"
      },
      "execution_count": 32,
      "outputs": []
    },
    {
      "cell_type": "markdown",
      "source": [
        "Now Normalize the sets by dividing by 255."
      ],
      "metadata": {
        "id": "nRSUV_1uMtXa"
      }
    },
    {
      "cell_type": "code",
      "source": [
        "X_train_normalized = X_train_flattened / 255\n",
        "X_test_normalized = X_test_flattened / 255"
      ],
      "metadata": {
        "id": "37CfREpiNBzl"
      },
      "execution_count": 33,
      "outputs": []
    },
    {
      "cell_type": "markdown",
      "source": [
        "Now print shape of training and test data."
      ],
      "metadata": {
        "id": "tlKYc9l1NN1S"
      }
    },
    {
      "cell_type": "code",
      "source": [
        "#Training set\n",
        "print(\"Shape of X_train normalized:\", X_train_normalized.shape)\n",
        "print(\"Shape of y_train:\", y_train.shape)\n",
        "#Test set\n",
        "print(\"Shape of X_test_normalized:\", X_test_normalized.shape)\n",
        "print(\"Shape of y_test:\", y_test.shape)\n",
        "\n"
      ],
      "metadata": {
        "colab": {
          "base_uri": "https://localhost:8080/",
          "height": 0
        },
        "id": "QJpmRJ8BNWKT",
        "outputId": "8fc9388f-98e2-4523-e9ce-aefdacafb5f8"
      },
      "execution_count": 34,
      "outputs": [
        {
          "output_type": "stream",
          "name": "stdout",
          "text": [
            "Shape of X_train normalized: (42000, 1024)\n",
            "Shape of y_train: (42000,)\n",
            "Shape of X_test_normalized: (18000, 1024)\n",
            "Shape of y_test: (18000,)\n"
          ]
        }
      ]
    },
    {
      "cell_type": "markdown",
      "source": [
        "One-hot encode the target variable"
      ],
      "metadata": {
        "id": "jgJKnjnJRV8t"
      }
    },
    {
      "cell_type": "code",
      "source": [
        "from keras.utils import np_utils"
      ],
      "metadata": {
        "id": "SsqaR2aHRbHy"
      },
      "execution_count": 35,
      "outputs": []
    },
    {
      "cell_type": "code",
      "source": [
        "y_train_encoded = np_utils.to_categorical(y_train)\n",
        "y_test_encoded = np_utils.to_categorical(y_test)"
      ],
      "metadata": {
        "id": "4wMm62sgRh3y"
      },
      "execution_count": 36,
      "outputs": []
    },
    {
      "cell_type": "code",
      "source": [
        "y_test_encoded"
      ],
      "metadata": {
        "colab": {
          "base_uri": "https://localhost:8080/",
          "height": 0
        },
        "id": "WtQGnbmHSXXp",
        "outputId": "28f4c8e8-9e11-43fb-a838-31ffd9366013"
      },
      "execution_count": 38,
      "outputs": [
        {
          "output_type": "execute_result",
          "data": {
            "text/plain": [
              "array([[0., 1., 0., ..., 0., 0., 0.],\n",
              "       [0., 0., 0., ..., 1., 0., 0.],\n",
              "       [0., 0., 1., ..., 0., 0., 0.],\n",
              "       ...,\n",
              "       [0., 0., 0., ..., 1., 0., 0.],\n",
              "       [0., 0., 0., ..., 0., 0., 1.],\n",
              "       [0., 0., 1., ..., 0., 0., 0.]], dtype=float32)"
            ]
          },
          "metadata": {},
          "execution_count": 38
        }
      ]
    },
    {
      "cell_type": "markdown",
      "source": [
        "MODEL BUILDING"
      ],
      "metadata": {
        "id": "vTqgSwruS-tK"
      }
    },
    {
      "cell_type": "markdown",
      "source": [
        "Fix the seed for random number generators (essentially make the model reproducable)"
      ],
      "metadata": {
        "id": "Nkiss_qUT-c1"
      }
    },
    {
      "cell_type": "code",
      "source": [
        "seed_value = 42\n",
        "np.random.seed(seed_value)\n",
        "tf.random.set_seed(seed_value)"
      ],
      "metadata": {
        "id": "0UEBuKt1Ua__"
      },
      "execution_count": 39,
      "outputs": []
    },
    {
      "cell_type": "markdown",
      "source": [
        "Build the model"
      ],
      "metadata": {
        "id": "RP-ibSlVUpNo"
      }
    },
    {
      "cell_type": "code",
      "source": [
        "from tensorflow.keras.models import Sequential\n",
        "from tensorflow.keras.layers import Dense\n",
        "from tensorflow.keras.optimizers import Adam"
      ],
      "metadata": {
        "id": "Jrk0NrB3b4_U"
      },
      "execution_count": 40,
      "outputs": []
    },
    {
      "cell_type": "code",
      "source": [
        "#We need to define the function 'nn_model_1'\n",
        "\n",
        "def nn_model_1(num_classes):\n",
        "  model = Sequential([\n",
        "      Dense(64, activation='relu', input_shape=(1024, )),\n",
        "      Dense(32, activation='relu'),\n",
        "      Dense(num_classes, activation='softmax')\n",
        "  ])\n",
        "\n",
        "  model.compile(loss='categorical_crossentropy', #common for multi-class classification problems\n",
        "                optimizer=Adam(learning_rate=0.001),\n",
        "                metrics=['accuracy'])\n",
        "  return model"
      ],
      "metadata": {
        "id": "bNaPZeGSdEfg"
      },
      "execution_count": 43,
      "outputs": []
    },
    {
      "cell_type": "code",
      "source": [
        "#call the nn_model_1 function and store model in new variable\n",
        "num_classes = 10\n",
        "\n",
        "model1 = nn_model_1(num_classes)\n"
      ],
      "metadata": {
        "id": "OEoiSZQkgb5L"
      },
      "execution_count": 46,
      "outputs": []
    },
    {
      "cell_type": "code",
      "source": [
        "#now print model summary\n",
        "\n",
        "model1.summary()"
      ],
      "metadata": {
        "colab": {
          "base_uri": "https://localhost:8080/"
        },
        "id": "Hoo1YQqci7v0",
        "outputId": "fbdcb310-976c-43d6-a2fe-99ceb6f852d1"
      },
      "execution_count": 47,
      "outputs": [
        {
          "output_type": "stream",
          "name": "stdout",
          "text": [
            "Model: \"sequential\"\n",
            "_________________________________________________________________\n",
            " Layer (type)                Output Shape              Param #   \n",
            "=================================================================\n",
            " dense (Dense)               (None, 64)                65600     \n",
            "                                                                 \n",
            " dense_1 (Dense)             (None, 32)                2080      \n",
            "                                                                 \n",
            " dense_2 (Dense)             (None, 10)                330       \n",
            "                                                                 \n",
            "=================================================================\n",
            "Total params: 68,010\n",
            "Trainable params: 68,010\n",
            "Non-trainable params: 0\n",
            "_________________________________________________________________\n"
          ]
        }
      ]
    },
    {
      "cell_type": "markdown",
      "source": [
        "This is the summary of the model architecture, including the number of parameters in each layer (65600, 2080, 330) and the total number of parameters in the model (68010)"
      ],
      "metadata": {
        "id": "za5e5vo0jKv0"
      }
    },
    {
      "cell_type": "markdown",
      "source": [
        "Fit on training data"
      ],
      "metadata": {
        "id": "4BqU-gBAjhQw"
      }
    },
    {
      "cell_type": "code",
      "source": [
        "history = model1.fit(X_train_normalized, y_train_encoded, validation_split=0.2, batch_size=128, epochs=20, verbose=1) #20% of training data will be used for validation during training.\n",
        "\n",
        "#model will be updated after every 128 samples\n",
        "#the dataset will be passed through the model 20 times\n",
        "#'hisotry' contains information about the training process"
      ],
      "metadata": {
        "colab": {
          "base_uri": "https://localhost:8080/"
        },
        "id": "FMLU2tn4jt9L",
        "outputId": "825f47ff-1bb4-44ae-e40f-e32fb5062419"
      },
      "execution_count": 49,
      "outputs": [
        {
          "output_type": "stream",
          "name": "stdout",
          "text": [
            "Epoch 1/20\n",
            "263/263 [==============================] - 2s 4ms/step - loss: 2.3053 - accuracy: 0.1019 - val_loss: 2.2891 - val_accuracy: 0.1037\n",
            "Epoch 2/20\n",
            "263/263 [==============================] - 1s 4ms/step - loss: 2.2627 - accuracy: 0.1303 - val_loss: 2.2337 - val_accuracy: 0.1611\n",
            "Epoch 3/20\n",
            "263/263 [==============================] - 1s 4ms/step - loss: 2.1927 - accuracy: 0.1614 - val_loss: 2.1387 - val_accuracy: 0.1681\n",
            "Epoch 4/20\n",
            "263/263 [==============================] - 1s 5ms/step - loss: 2.1314 - accuracy: 0.1743 - val_loss: 2.1073 - val_accuracy: 0.1715\n",
            "Epoch 5/20\n",
            "263/263 [==============================] - 1s 5ms/step - loss: 2.1110 - accuracy: 0.1771 - val_loss: 2.1041 - val_accuracy: 0.1771\n",
            "Epoch 6/20\n",
            "263/263 [==============================] - 1s 5ms/step - loss: 2.1048 - accuracy: 0.1784 - val_loss: 2.1192 - val_accuracy: 0.1690\n",
            "Epoch 7/20\n",
            "263/263 [==============================] - 1s 5ms/step - loss: 2.1001 - accuracy: 0.1801 - val_loss: 2.1000 - val_accuracy: 0.1829\n",
            "Epoch 8/20\n",
            "263/263 [==============================] - 1s 4ms/step - loss: 2.0964 - accuracy: 0.1812 - val_loss: 2.1284 - val_accuracy: 0.1793\n",
            "Epoch 9/20\n",
            "263/263 [==============================] - 1s 4ms/step - loss: 2.0937 - accuracy: 0.1829 - val_loss: 2.1003 - val_accuracy: 0.1831\n",
            "Epoch 10/20\n",
            "263/263 [==============================] - 1s 4ms/step - loss: 2.0888 - accuracy: 0.1840 - val_loss: 2.0846 - val_accuracy: 0.1895\n",
            "Epoch 11/20\n",
            "263/263 [==============================] - 1s 4ms/step - loss: 2.0887 - accuracy: 0.1820 - val_loss: 2.0898 - val_accuracy: 0.1887\n",
            "Epoch 12/20\n",
            "263/263 [==============================] - 1s 4ms/step - loss: 2.0825 - accuracy: 0.1849 - val_loss: 2.0861 - val_accuracy: 0.1887\n",
            "Epoch 13/20\n",
            "263/263 [==============================] - 1s 4ms/step - loss: 2.0823 - accuracy: 0.1829 - val_loss: 2.0774 - val_accuracy: 0.1887\n",
            "Epoch 14/20\n",
            "263/263 [==============================] - 1s 3ms/step - loss: 2.0836 - accuracy: 0.1873 - val_loss: 2.0738 - val_accuracy: 0.1927\n",
            "Epoch 15/20\n",
            "263/263 [==============================] - 1s 3ms/step - loss: 2.0773 - accuracy: 0.1845 - val_loss: 2.0902 - val_accuracy: 0.1899\n",
            "Epoch 16/20\n",
            "263/263 [==============================] - 1s 4ms/step - loss: 2.0760 - accuracy: 0.1893 - val_loss: 2.0761 - val_accuracy: 0.1932\n",
            "Epoch 17/20\n",
            "263/263 [==============================] - 1s 5ms/step - loss: 2.0714 - accuracy: 0.1846 - val_loss: 2.0748 - val_accuracy: 0.1964\n",
            "Epoch 18/20\n",
            "263/263 [==============================] - 1s 5ms/step - loss: 2.0708 - accuracy: 0.1848 - val_loss: 2.0639 - val_accuracy: 0.1908\n",
            "Epoch 19/20\n",
            "263/263 [==============================] - 1s 3ms/step - loss: 2.0702 - accuracy: 0.1874 - val_loss: 2.0733 - val_accuracy: 0.1864\n",
            "Epoch 20/20\n",
            "263/263 [==============================] - 1s 4ms/step - loss: 2.0645 - accuracy: 0.1842 - val_loss: 2.0710 - val_accuracy: 0.1902\n"
          ]
        }
      ]
    },
    {
      "cell_type": "markdown",
      "source": [
        "The very last test had some of the lowest losses and highest accuracies. The model was presumably learning. That being said an 18-19 percent accuracy, is very poor."
      ],
      "metadata": {
        "id": "y63o4z0UlG84"
      }
    },
    {
      "cell_type": "markdown",
      "source": [
        "Now I'm going to plot the training and validation accuracies to get a better understanding of the model's performance."
      ],
      "metadata": {
        "id": "VCQaEA-tq5IK"
      }
    },
    {
      "cell_type": "code",
      "source": [
        "plt.plot(history.history['accuracy'], label='Training Accuracy') #labeling makes for clean visuals\n",
        "plt.plot(history.history['val_accuracy'], label='Validation Accuracy')\n",
        "plt.xlabel('Epoch')\n",
        "plt.ylabel('Accuracy')\n",
        "plt.legend()\n",
        "plt.title('Training and Validation Accuracies')\n",
        "plt.show()\n"
      ],
      "metadata": {
        "colab": {
          "base_uri": "https://localhost:8080/",
          "height": 472
        },
        "id": "Fa05YYjyqz7e",
        "outputId": "6762d418-e48e-4017-9c00-ad72c41f1395"
      },
      "execution_count": 51,
      "outputs": [
        {
          "output_type": "display_data",
          "data": {
            "text/plain": [
              "<Figure size 640x480 with 1 Axes>"
            ],
            "image/png": "[encoded data removed]"
          },
          "metadata": {}
        }
      ]
    },
    {
      "cell_type": "markdown",
      "source": [
        "Observations: The training accuracy and validation accuracy both increase and stay relatively close to each other, it suggests that the model is learning effectively, and there is no significant overfitting."
      ],
      "metadata": {
        "id": "jnKWtxJ1rlIX"
      }
    },
    {
      "cell_type": "markdown",
      "source": [
        "2ND MODEL: Im going to build another model with higher complexities in hopes to improve the performance of the model."
      ],
      "metadata": {
        "id": "iY4F74f9sCkD"
      }
    },
    {
      "cell_type": "code",
      "source": [
        "#First we need to clear the history of the first model from the Keras backend\n",
        "from keras import backend as K\n",
        "\n",
        "K.clear_session()"
      ],
      "metadata": {
        "id": "OEcz6uD1sX4f"
      },
      "execution_count": 57,
      "outputs": []
    },
    {
      "cell_type": "code",
      "source": [
        "seed_value = 42\n",
        "np.random.seed(seed_value)\n",
        "tf.random.set_seed(seed_value)\n"
      ],
      "metadata": {
        "id": "RFojKRBpvRXj"
      },
      "execution_count": 59,
      "outputs": []
    },
    {
      "cell_type": "markdown",
      "source": [
        "Now I'm ready to begin building the second model."
      ],
      "metadata": {
        "id": "7RVxGkguwVKr"
      }
    },
    {
      "cell_type": "code",
      "source": [],
      "metadata": {
        "id": "L8KjYtrKwcsO"
      },
      "execution_count": null,
      "outputs": []
    }
  ]
}